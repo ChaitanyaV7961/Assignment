{
 "cells": [
  {
   "cell_type": "markdown",
   "metadata": {},
   "source": [
    "# Filter"
   ]
  },
  {
   "cell_type": "markdown",
   "metadata": {},
   "source": [
    "CHAITANYA V"
   ]
  },
  {
   "cell_type": "markdown",
   "metadata": {},
   "source": [
    "In simple words, the filter() method filters the given iterable with the help of a function that tests each element in the iterable to be true or not.\n",
    "\n",
    "SYNTAX : filter(function,iterables)"
   ]
  },
  {
   "cell_type": "code",
   "execution_count": 5,
   "metadata": {},
   "outputs": [
    {
     "name": "stdout",
     "output_type": "stream",
     "text": [
      "<filter object at 0x0000000004F135C8>\n",
      "[23, 30]\n"
     ]
    }
   ],
   "source": [
    "l=[23,30,12,10]\n",
    "sqr=filter(lambda l : l >=20,l)\n",
    "\n",
    "print(sqr)\n",
    "print (list(sqr))"
   ]
  },
  {
   "cell_type": "markdown",
   "metadata": {},
   "source": [
    "# Reduce"
   ]
  },
  {
   "cell_type": "markdown",
   "metadata": {},
   "source": [
    "The reduce function allow you to apply a function across a number of iterables, in one full go.\n",
    "\n",
    "SYNTAX : reduce (function,iterables)"
   ]
  },
  {
   "cell_type": "code",
   "execution_count": 8,
   "metadata": {},
   "outputs": [
    {
     "name": "stdout",
     "output_type": "stream",
     "text": [
      "170\n"
     ]
    }
   ],
   "source": [
    "#reduce is not a predefined function but is one of the functions of the functools module which needs to be imported first to perform the function.\n",
    "\n",
    "\n",
    "from functools import reduce\n",
    "\n",
    "def sqr(a,b):\n",
    "    return a+b\n",
    "x= reduce(sqr,[12,23,34,45,56])\n",
    "\n",
    "print(x)"
   ]
  },
  {
   "cell_type": "markdown",
   "metadata": {},
   "source": [
    "# Adding the digits of the given output using while loop"
   ]
  },
  {
   "cell_type": "code",
   "execution_count": 26,
   "metadata": {},
   "outputs": [
    {
     "name": "stdout",
     "output_type": "stream",
     "text": [
      "enter the number:3255\n",
      "sum in single digit is: 6\n"
     ]
    }
   ],
   "source": [
    "n = int(input(\"enter the number:\"))\n",
    "\n",
    "while True:\n",
    "  result=0\n",
    "  for i in str(n):\n",
    "    result = result+int(i)\n",
    "\n",
    "  if result>9:\n",
    "    n=result\n",
    "  else:\n",
    "    print(\"sum in single digit is:\",result)\n",
    "    break"
   ]
  },
  {
   "cell_type": "markdown",
   "metadata": {},
   "source": [
    "# --------Day 7 - Assignment--------"
   ]
  },
  {
   "cell_type": "code",
   "execution_count": null,
   "metadata": {},
   "outputs": [],
   "source": []
  }
 ],
 "metadata": {
  "kernelspec": {
   "display_name": "Python 3",
   "language": "python",
   "name": "python3"
  },
  "language_info": {
   "codemirror_mode": {
    "name": "ipython",
    "version": 3
   },
   "file_extension": ".py",
   "mimetype": "text/x-python",
   "name": "python",
   "nbconvert_exporter": "python",
   "pygments_lexer": "ipython3",
   "version": "3.7.6"
  }
 },
 "nbformat": 4,
 "nbformat_minor": 4
}
