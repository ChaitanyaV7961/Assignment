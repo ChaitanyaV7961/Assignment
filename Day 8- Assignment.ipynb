{
 "cells": [
  {
   "cell_type": "markdown",
   "metadata": {},
   "source": [
    "# Assignment 8\n",
    "CHAITANYA V"
   ]
  },
  {
   "cell_type": "code",
   "execution_count": 1,
   "metadata": {},
   "outputs": [
    {
     "name": "stdout",
     "output_type": "stream",
     "text": [
      "Enter your binary number here - 111111101111111\n",
      "Yes\n"
     ]
    }
   ],
   "source": [
    "#Taking the input and converting the same into a list first. Using conditional statements to see if the same can be,\n",
    "#made a digit containing same values by just one switch.\n",
    "\n",
    "\n",
    "\n",
    "\n",
    "x=input(\"Enter your binary number here - \")\n",
    "x=list(x)\n",
    "\n",
    "if x.count(\"0\")==1 or x.count(\"1\")==1:\n",
    "    print (\"Yes\")"
   ]
  },
  {
   "cell_type": "markdown",
   "metadata": {},
   "source": [
    "# ---------Day 8----------"
   ]
  },
  {
   "cell_type": "code",
   "execution_count": null,
   "metadata": {},
   "outputs": [],
   "source": []
  }
 ],
 "metadata": {
  "kernelspec": {
   "display_name": "Python 3",
   "language": "python",
   "name": "python3"
  },
  "language_info": {
   "codemirror_mode": {
    "name": "ipython",
    "version": 3
   },
   "file_extension": ".py",
   "mimetype": "text/x-python",
   "name": "python",
   "nbconvert_exporter": "python",
   "pygments_lexer": "ipython3",
   "version": "3.7.6"
  }
 },
 "nbformat": 4,
 "nbformat_minor": 4
}
