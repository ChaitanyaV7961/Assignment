{
 "cells": [
  {
   "cell_type": "markdown",
   "metadata": {},
   "source": [
    "# # 1) Grading System - Using if,elif and else.\n",
    "\n",
    "   CHAITANYA V\n",
    "   "
   ]
  },
  {
   "cell_type": "code",
   "execution_count": 1,
   "metadata": {},
   "outputs": [
    {
     "name": "stdout",
     "output_type": "stream",
     "text": [
      "input percentage 92\n",
      "A+\n"
     ]
    }
   ],
   "source": [
    "#Determining the grade using the percentage of the said individual. \n",
    "\n",
    "v=float(input(\"input percentage \"))\n",
    "if v >= 90: \n",
    "    print (\"A+\")\n",
    "elif v >= 80:\n",
    "    print (\"A\")\n",
    "elif v >= 70:\n",
    "    print (\"B+\")\n",
    "elif v >= 60:\n",
    "    print (\"B\")\n",
    "elif v >= 50:\n",
    "    print (\"C+\")\n",
    "else:\n",
    "    print (\"C\")"
   ]
  },
  {
   "cell_type": "markdown",
   "metadata": {},
   "source": [
    " # 2) World T20 - IND VS ENG"
   ]
  },
  {
   "cell_type": "markdown",
   "metadata": {},
   "source": [
    "Toss - IND (Choose to bat)\n",
    "\n",
    "Let the predictions begin!"
   ]
  },
  {
   "cell_type": "code",
   "execution_count": 6,
   "metadata": {},
   "outputs": [
    {
     "name": "stdout",
     "output_type": "stream",
     "text": [
      "Your prediction is 170\n",
      "Score is  150\n",
      "Not bad, you almost got it!\n"
     ]
    }
   ],
   "source": [
    "# A little score prediction game using 'random' function and conditional execution.\n",
    "\n",
    "\n",
    "import random \n",
    "x=random.randint(100,250)\n",
    "y=int(input(\"Your prediction is \"))\n",
    "\n",
    "print (\"Score is \",(x))\n",
    "if y <= 250:\n",
    " if y <= x and y >= x-30:\n",
    "    print(\"Not bad, you almost got it!\")\n",
    " elif y >= x and y <= x+30:  \n",
    "    print (\"Not bad, you almost got it!\")\n",
    " else:\n",
    "    print (\"Not even close, better luck next time!\")\n",
    "else:\n",
    "    print (\"Seriously!!!!? On this pitch?! No way!!\")"
   ]
  },
  {
   "cell_type": "markdown",
   "metadata": {},
   "source": [
    "# ------- DAY 3 - Assignment -------"
   ]
  },
  {
   "cell_type": "code",
   "execution_count": null,
   "metadata": {},
   "outputs": [],
   "source": []
  }
 ],
 "metadata": {
  "kernelspec": {
   "display_name": "Python 3",
   "language": "python",
   "name": "python3"
  },
  "language_info": {
   "codemirror_mode": {
    "name": "ipython",
    "version": 3
   },
   "file_extension": ".py",
   "mimetype": "text/x-python",
   "name": "python",
   "nbconvert_exporter": "python",
   "pygments_lexer": "ipython3",
   "version": "3.7.6"
  }
 },
 "nbformat": 4,
 "nbformat_minor": 4
}
