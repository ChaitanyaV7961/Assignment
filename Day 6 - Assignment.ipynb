{
 "cells": [
  {
   "cell_type": "markdown",
   "metadata": {},
   "source": [
    "# 1) MAP AND LAMBDA FUNCTIONS\n",
    "CHAITANYA V\n"
   ]
  },
  {
   "cell_type": "markdown",
   "metadata": {},
   "source": [
    "map()\n",
    "\n",
    "SYNTAX : (function , interables)\n",
    "It applies the given function to all the iterables and returns in the form of a list.\n"
   ]
  },
  {
   "cell_type": "code",
   "execution_count": 2,
   "metadata": {},
   "outputs": [
    {
     "name": "stdout",
     "output_type": "stream",
     "text": [
      "25\n"
     ]
    }
   ],
   "source": [
    "# Without using a map function.\n",
    "\n",
    "def sqr(a):\n",
    "    return a*a \n",
    "x=sqr(5)    \n",
    "print(x)"
   ]
  },
  {
   "cell_type": "code",
   "execution_count": 6,
   "metadata": {},
   "outputs": [
    {
     "name": "stdout",
     "output_type": "stream",
     "text": [
      "<map object at 0x000000000515BE48>\n",
      "[1, 4, 9, 16]\n",
      "[49, 64, 81, 100]\n"
     ]
    }
   ],
   "source": [
    "# Using a map function\n",
    "\n",
    "# The function remains the same\n",
    "def sqr(a):\n",
    "    return a*a\n",
    "\n",
    "# But the function is used within the map fuction\n",
    "\n",
    "x=map(sqr,[1,2,3,4])\n",
    "print (x)\n",
    "print(list(x))\n",
    "\n",
    "# This can further be shortened to one line of code\n",
    "\n",
    "print(list(map(sqr,[7,8,9,10])))"
   ]
  },
  {
   "cell_type": "code",
   "execution_count": 15,
   "metadata": {},
   "outputs": [
    {
     "name": "stdout",
     "output_type": "stream",
     "text": [
      "(92, 2430, 96, 92)\n",
      "<class 'map'>\n"
     ]
    }
   ],
   "source": [
    "# Map can also be used to apply the functions on multiple iterables\n",
    "\n",
    "def sqr(a,b):\n",
    "    return a*b\n",
    "x=map(sqr,[4,45,32,4],[23,54,3,23])\n",
    "print (tuple(x))\n",
    "print(type(x))\n",
    "\n",
    "# Since just printing the map will give us map object, we have to convert the map into a list, tuple etc."
   ]
  },
  {
   "cell_type": "markdown",
   "metadata": {},
   "source": [
    "Lambda Function\n",
    "\n",
    "SYNTAX : (Arguments : expression)\n",
    "\n",
    "Lambda is a small anonymous function which need not be defined, hence using the same shortens the length of the code and uses far less processing time."
   ]
  },
  {
   "cell_type": "code",
   "execution_count": 18,
   "metadata": {},
   "outputs": [
    {
     "name": "stdout",
     "output_type": "stream",
     "text": [
      "36\n"
     ]
    }
   ],
   "source": [
    "#Without using a lambda function\n",
    "\n",
    "def sqr(a):\n",
    "    return a*a\n",
    "x=sqr(6)\n",
    "print (x)"
   ]
  },
  {
   "cell_type": "code",
   "execution_count": 19,
   "metadata": {},
   "outputs": [
    {
     "data": {
      "text/plain": [
       "64"
      ]
     },
     "execution_count": 19,
     "metadata": {},
     "output_type": "execute_result"
    }
   ],
   "source": [
    "# Same calculation using the lambda function\n",
    "#the argument is a and the expression that i want is a*a.\n",
    "\n",
    "x= lambda a: a*a\n",
    "x(8)"
   ]
  },
  {
   "cell_type": "code",
   "execution_count": 22,
   "metadata": {},
   "outputs": [
    {
     "name": "stdout",
     "output_type": "stream",
     "text": [
      "<function abc.<locals>.<lambda> at 0x0000000005152DC8>\n",
      "24\n"
     ]
    }
   ],
   "source": [
    "#Lambda using the user defined functions.\n",
    "\n",
    "\n",
    "def abc(x):\n",
    "    return lambda y:x+y\n",
    "n=abc(6)\n",
    "print (n)\n",
    "print (n(18))"
   ]
  },
  {
   "cell_type": "markdown",
   "metadata": {},
   "source": [
    "# 2 Number of letters with holes in them"
   ]
  },
  {
   "cell_type": "code",
   "execution_count": 4,
   "metadata": {},
   "outputs": [
    {
     "name": "stdout",
     "output_type": "stream",
     "text": [
      "Enter the letters here.NAOIJHNkosjfkAOSIFJ\n",
      "5"
     ]
    }
   ],
   "source": [
    "#Converting the input into upper case first, followed by using for loop and conditional statements to recognise the letters with hole.\n",
    "\n",
    "a=input(\"Enter the letters here.\")\n",
    "a=a.upper()\n",
    "count=0\n",
    "a1=[\"A\", \"D\", \"O\", \"P\", \"R\"]\n",
    "for i in a:\n",
    "  for j in a1:\n",
    "    if i==j:\n",
    "      count+=1\n",
    "      continue\n",
    "  if i==\"B\":\n",
    "    count+=2\n",
    "print(count,end=\"\")"
   ]
  },
  {
   "cell_type": "markdown",
   "metadata": {},
   "source": [
    "# --------DAY 6 - Assignment--------"
   ]
  },
  {
   "cell_type": "code",
   "execution_count": null,
   "metadata": {},
   "outputs": [],
   "source": []
  }
 ],
 "metadata": {
  "kernelspec": {
   "display_name": "Python 3",
   "language": "python",
   "name": "python3"
  },
  "language_info": {
   "codemirror_mode": {
    "name": "ipython",
    "version": 3
   },
   "file_extension": ".py",
   "mimetype": "text/x-python",
   "name": "python",
   "nbconvert_exporter": "python",
   "pygments_lexer": "ipython3",
   "version": "3.7.6"
  }
 },
 "nbformat": 4,
 "nbformat_minor": 4
}
