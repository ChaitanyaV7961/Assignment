{
 "cells": [
  {
   "cell_type": "markdown",
   "metadata": {},
   "source": [
    "CHAITANYA V"
   ]
  },
  {
   "cell_type": "code",
   "execution_count": 1,
   "metadata": {},
   "outputs": [
    {
     "data": {
      "text/plain": [
       "'C:\\\\Users\\\\Dell\\\\Chaitanya V'"
      ]
     },
     "execution_count": 1,
     "metadata": {},
     "output_type": "execute_result"
    }
   ],
   "source": [
    "# Code to find the path of the notebooks being saved.\n",
    "\n",
    "\n",
    "import os\n",
    "os.getcwd()"
   ]
  },
  {
   "cell_type": "raw",
   "metadata": {},
   "source": [
    "RAW NB CONVERT\n",
    "\n",
    "Raw NBConvert option will convert a particulat cell into a text cell format which will essentially work as a \n",
    "notebook."
   ]
  },
  {
   "cell_type": "markdown",
   "metadata": {},
   "source": [
    "MARK DOWN OPTION\n",
    "\n",
    "Using Markdown and indentation.\n",
    "\n",
    ">Topic 1\n",
    ">>Sub topic 1.1\n",
    "\n",
    ">>Sub topic 1.2\n",
    "\n",
    ">Topic 2\n",
    ">>Sub topic 2.1\n",
    "\n",
    ">>Sub topic 2.2"
   ]
  },
  {
   "cell_type": "code",
   "execution_count": 5,
   "metadata": {},
   "outputs": [
    {
     "data": {
      "text/plain": [
       "98"
      ]
     },
     "execution_count": 5,
     "metadata": {},
     "output_type": "execute_result"
    }
   ],
   "source": [
    "#Understanding the print function and its applications.\n",
    "\n",
    "A=22\n",
    "B=34\n",
    "C=42\n",
    "D=A+B+C\n",
    "\n",
    "D"
   ]
  },
  {
   "cell_type": "code",
   "execution_count": 6,
   "metadata": {},
   "outputs": [
    {
     "name": "stdout",
     "output_type": "stream",
     "text": [
      "Addition of A,B and C = 98\n"
     ]
    }
   ],
   "source": [
    "print(\"Addition of A,B and C =\",D)"
   ]
  },
  {
   "cell_type": "code",
   "execution_count": 7,
   "metadata": {},
   "outputs": [
    {
     "name": "stdout",
     "output_type": "stream",
     "text": [
      "Addition of A= 22 B= 34 C= 42 is 98\n"
     ]
    }
   ],
   "source": [
    "print(\"Addition of A=\",A,\"B=\",B,\"C=\",C,\"is\",D)"
   ]
  },
  {
   "cell_type": "code",
   "execution_count": 22,
   "metadata": {},
   "outputs": [
    {
     "data": {
      "text/plain": [
       "int"
      ]
     },
     "execution_count": 22,
     "metadata": {},
     "output_type": "execute_result"
    }
   ],
   "source": [
    "#Determining the data type\n",
    "\n",
    "a=12\n",
    "b=43.23\n",
    "c=\"Awesome\"\n",
    "d=343+67j\n",
    "\n",
    "type(a)"
   ]
  },
  {
   "cell_type": "code",
   "execution_count": 14,
   "metadata": {},
   "outputs": [
    {
     "data": {
      "text/plain": [
       "float"
      ]
     },
     "execution_count": 14,
     "metadata": {},
     "output_type": "execute_result"
    }
   ],
   "source": [
    "type(b)"
   ]
  },
  {
   "cell_type": "code",
   "execution_count": 16,
   "metadata": {},
   "outputs": [
    {
     "data": {
      "text/plain": [
       "str"
      ]
     },
     "execution_count": 16,
     "metadata": {},
     "output_type": "execute_result"
    }
   ],
   "source": [
    "type(c)"
   ]
  },
  {
   "cell_type": "code",
   "execution_count": 23,
   "metadata": {},
   "outputs": [
    {
     "data": {
      "text/plain": [
       "complex"
      ]
     },
     "execution_count": 23,
     "metadata": {},
     "output_type": "execute_result"
    }
   ],
   "source": [
    "type(d)"
   ]
  },
  {
   "cell_type": "code",
   "execution_count": 39,
   "metadata": {},
   "outputs": [
    {
     "name": "stdout",
     "output_type": "stream",
     "text": [
      "money\n"
     ]
    }
   ],
   "source": [
    "#Forward and backward indexation\n",
    "#[Start index : End index]. End index is taken as End index-1.\n",
    "\n",
    "String1=\"Mo' money,mo' problems.\"\n",
    "String2=\"I'm not superstitios, but I'm a little stitious.\"\n",
    "\n",
    "#Forward indexation\n",
    "print(String1[4:9])"
   ]
  },
  {
   "cell_type": "code",
   "execution_count": 42,
   "metadata": {},
   "outputs": [
    {
     "name": "stdout",
     "output_type": "stream",
     "text": [
      "stitious\n"
     ]
    }
   ],
   "source": [
    "#Backward indexation\n",
    "\n",
    "print(String2[-9:-1])"
   ]
  },
  {
   "cell_type": "markdown",
   "metadata": {},
   "source": [
    "# Order of operations"
   ]
  },
  {
   "cell_type": "raw",
   "metadata": {},
   "source": [
    "--PEMDAS--\n",
    "\n",
    "1.Parentheses \n",
    "2.Exponentiation\n",
    "3.Multiplication\n",
    "4.Division\n",
    "5.Addition\n",
    "6.Subtraction"
   ]
  },
  {
   "cell_type": "code",
   "execution_count": 45,
   "metadata": {},
   "outputs": [
    {
     "data": {
      "text/plain": [
       "-226.0"
      ]
     },
     "execution_count": 45,
     "metadata": {},
     "output_type": "execute_result"
    }
   ],
   "source": [
    "2+43-3**3-32*24/3+(6*2)"
   ]
  },
  {
   "cell_type": "raw",
   "metadata": {},
   "source": [
    "Order of operation for the above calculation\n",
    "\n",
    "1.P-(6*2)=12\n",
    "=2+43-3**3-32*24/3+12\n",
    "\n",
    "2.E-3**3=27\n",
    "=2+43-27-32*24/3+12\n",
    "\n",
    "3.Multiplication and division (Associativity being left to right)\n",
    "=2+43-27-32*8+12\n",
    "=2+43-27-256+12\n",
    "\n",
    "4.Addition and Subtraction (Associativity being left to right)\n",
    "=45-27-256+12\n",
    "=18-256+12\n",
    "=-238+12\n",
    "=-226"
   ]
  },
  {
   "cell_type": "raw",
   "metadata": {},
   "source": [
    "With strings '+' works as concatination and '*' as repitition"
   ]
  },
  {
   "cell_type": "code",
   "execution_count": 68,
   "metadata": {},
   "outputs": [
    {
     "name": "stdout",
     "output_type": "stream",
     "text": [
      "Legend wait for it dary\n",
      "Legendary!\n"
     ]
    }
   ],
   "source": [
    "str1=\"Legend\"+\" wait for it\"+\" dary\"\n",
    "str2=\"Legendary!\"\n",
    "print(str1)\n",
    "print(str2)"
   ]
  },
  {
   "cell_type": "code",
   "execution_count": 57,
   "metadata": {},
   "outputs": [
    {
     "data": {
      "text/plain": [
       "'Entertainment Entertainment Entertainment '"
      ]
     },
     "execution_count": 57,
     "metadata": {},
     "output_type": "execute_result"
    }
   ],
   "source": [
    "str2=\"Entertainment \"*3\n",
    "\n",
    "str2"
   ]
  },
  {
   "cell_type": "markdown",
   "metadata": {},
   "source": [
    "# Typecasting"
   ]
  },
  {
   "cell_type": "raw",
   "metadata": {},
   "source": [
    "Typecasting is converting one data type into another. Although certain conversions are not viable, like converting 'string' into an 'int' as such.\n",
    "\n",
    "Some examples being as follows:"
   ]
  },
  {
   "cell_type": "code",
   "execution_count": 71,
   "metadata": {},
   "outputs": [
    {
     "data": {
      "text/plain": [
       "'Hey everyone!'"
      ]
     },
     "execution_count": 71,
     "metadata": {},
     "output_type": "execute_result"
    }
   ],
   "source": [
    "string=\"Hey everyone!\"\n",
    "string"
   ]
  },
  {
   "cell_type": "code",
   "execution_count": 72,
   "metadata": {},
   "outputs": [
    {
     "data": {
      "text/plain": [
       "['H', 'e', 'y', ' ', 'e', 'v', 'e', 'r', 'y', 'o', 'n', 'e', '!']"
      ]
     },
     "execution_count": 72,
     "metadata": {},
     "output_type": "execute_result"
    }
   ],
   "source": [
    "#Converting string into a list\n",
    "\n",
    "list(string)"
   ]
  },
  {
   "cell_type": "code",
   "execution_count": 74,
   "metadata": {},
   "outputs": [
    {
     "data": {
      "text/plain": [
       "432"
      ]
     },
     "execution_count": 74,
     "metadata": {},
     "output_type": "execute_result"
    }
   ],
   "source": [
    "#Converting an integer into a float.\n",
    "\n",
    "a=432\n",
    "a"
   ]
  },
  {
   "cell_type": "code",
   "execution_count": 75,
   "metadata": {},
   "outputs": [
    {
     "data": {
      "text/plain": [
       "432.0"
      ]
     },
     "execution_count": 75,
     "metadata": {},
     "output_type": "execute_result"
    }
   ],
   "source": [
    "#\"a\" being an integer now converted into a float.\n",
    "\n",
    "float(a)"
   ]
  },
  {
   "cell_type": "markdown",
   "metadata": {},
   "source": [
    "# -------DAY 2 - Assignment-------"
   ]
  },
  {
   "cell_type": "code",
   "execution_count": null,
   "metadata": {},
   "outputs": [],
   "source": []
  }
 ],
 "metadata": {
  "kernelspec": {
   "display_name": "Python 3",
   "language": "python",
   "name": "python3"
  },
  "language_info": {
   "codemirror_mode": {
    "name": "ipython",
    "version": 3
   },
   "file_extension": ".py",
   "mimetype": "text/x-python",
   "name": "python",
   "nbconvert_exporter": "python",
   "pygments_lexer": "ipython3",
   "version": "3.7.6"
  }
 },
 "nbformat": 4,
 "nbformat_minor": 4
}
