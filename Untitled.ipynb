{
 "cells": [
  {
   "cell_type": "markdown",
   "metadata": {},
   "source": [
    "# LET'S UPGRADE!\n",
    "\n",
    "CHAITANYA V\n",
    "\n"
   ]
  },
  {
   "cell_type": "code",
   "execution_count": 86,
   "metadata": {
    "scrolled": true
   },
   "outputs": [
    {
     "data": {
      "text/plain": [
       "'10'"
      ]
     },
     "execution_count": 86,
     "metadata": {},
     "output_type": "execute_result"
    }
   ],
   "source": [
    "#Dictionary and it's default functions\n",
    "\n",
    "jersey_numbers={\"Lionel Messi\":\"10\",\"Ronaldo\":\"07\",\"Neymar\":\"11\",\"De Bruyne\":\"17\"}\n",
    "goals=4\n",
    "\n",
    "#get function - returns the value of the item with the specified key.\n",
    "\n",
    "jersey_numbers.get(\"Lionel Messi\")"
   ]
  },
  {
   "cell_type": "code",
   "execution_count": 49,
   "metadata": {},
   "outputs": [
    {
     "data": {
      "text/plain": [
       "dict_values(['10', '07', '11', '17'])"
      ]
     },
     "execution_count": 49,
     "metadata": {},
     "output_type": "execute_result"
    }
   ],
   "source": [
    "#values function - fetches all the values from the assigned data.\n",
    "\n",
    "jersey_numbers.values()"
   ]
  },
  {
   "cell_type": "code",
   "execution_count": 45,
   "metadata": {},
   "outputs": [
    {
     "data": {
      "text/plain": [
       "{'Lionel Messi': '10', 'Ronaldo': '07', 'Neymar': '11', 'De Bruyne': '17'}"
      ]
     },
     "execution_count": 45,
     "metadata": {},
     "output_type": "execute_result"
    }
   ],
   "source": [
    "#copy function - makes a copy of the said data.\n",
    "\n",
    "jersey_numbers.copy()"
   ]
  },
  {
   "cell_type": "code",
   "execution_count": 50,
   "metadata": {},
   "outputs": [
    {
     "data": {
      "text/plain": [
       "{'Lionel Messi': 4, 'Ronaldo': 4, 'Neymar': 4, 'De Bruyne': 4}"
      ]
     },
     "execution_count": 50,
     "metadata": {},
     "output_type": "execute_result"
    }
   ],
   "source": [
    "#from keys function - creates a new dictionary with keys from seq and values set to value.\n",
    "\n",
    "jersey_numbers.fromkeys(jersey_numbers,goals)"
   ]
  },
  {
   "cell_type": "code",
   "execution_count": 51,
   "metadata": {},
   "outputs": [
    {
     "data": {
      "text/plain": [
       "dict_items([('Lionel Messi', '10'), ('Ronaldo', '07'), ('Neymar', '11'), ('De Bruyne', '17')])"
      ]
     },
     "execution_count": 51,
     "metadata": {},
     "output_type": "execute_result"
    }
   ],
   "source": [
    "#items function - used to return the list with all dictionary keys with values.\n",
    "\n",
    "jersey_numbers.items()"
   ]
  },
  {
   "cell_type": "code",
   "execution_count": 52,
   "metadata": {},
   "outputs": [
    {
     "data": {
      "text/plain": [
       "dict_keys(['Lionel Messi', 'Ronaldo', 'Neymar', 'De Bruyne'])"
      ]
     },
     "execution_count": 52,
     "metadata": {},
     "output_type": "execute_result"
    }
   ],
   "source": [
    "#keys function - returns a view object that displays a list of all the keys in the dictionary, where dictionary holds key : value pair.\n",
    "    \n",
    "jersey_numbers.keys()"
   ]
  },
  {
   "cell_type": "code",
   "execution_count": 59,
   "metadata": {},
   "outputs": [
    {
     "data": {
      "text/plain": [
       "'11'"
      ]
     },
     "execution_count": 59,
     "metadata": {},
     "output_type": "execute_result"
    }
   ],
   "source": [
    "#pop function - The pop() method removes and returns an element from a dictionary having the given key.\n",
    "\n",
    "jersey_numbers.pop(\"Neymar\")"
   ]
  },
  {
   "cell_type": "code",
   "execution_count": 66,
   "metadata": {},
   "outputs": [
    {
     "data": {
      "text/plain": [
       "'10'"
      ]
     },
     "execution_count": 66,
     "metadata": {},
     "output_type": "execute_result"
    }
   ],
   "source": [
    "#set default function - setdefault() method returns the value of a key. If not, it inserts key with a value to the dictionary.\n",
    "\n",
    "jersey_numbers.setdefault(\"Lionel Messi\")"
   ]
  },
  {
   "cell_type": "code",
   "execution_count": 89,
   "metadata": {},
   "outputs": [
    {
     "data": {
      "text/plain": [
       "{'Lionel Messi': '10',\n",
       " 'Ronaldo': '07',\n",
       " 'Neymar': '11',\n",
       " 'De Bruyne': '17',\n",
       " 'Rooney': '10'}"
      ]
     },
     "execution_count": 89,
     "metadata": {},
     "output_type": "execute_result"
    }
   ],
   "source": [
    "#updated function - The update() method updates the dictionary with the elements from the another dictionary object.\n",
    "\n",
    "jersey_numbers_updated={\"Rooney\":\"10\"}\n",
    "jersey_numbers.update(jersey_numbers_updated)\n",
    "\n",
    "jersey_numbers"
   ]
  },
  {
   "cell_type": "code",
   "execution_count": 91,
   "metadata": {},
   "outputs": [
    {
     "name": "stdout",
     "output_type": "stream",
     "text": [
      "None\n"
     ]
    }
   ],
   "source": [
    "#clear function - clears all the items from the dictionary.\n",
    "\n",
    "print(jersey_numbers.clear())"
   ]
  },
  {
   "cell_type": "markdown",
   "metadata": {},
   "source": [
    "# List and it's default functions"
   ]
  },
  {
   "cell_type": "code",
   "execution_count": 147,
   "metadata": {},
   "outputs": [
    {
     "name": "stdout",
     "output_type": "stream",
     "text": [
      "['Rio', 'Denver', 'Tokyo', 'Helsinki']\n"
     ]
    }
   ],
   "source": [
    "LaCasaDePapel = [\"Rio\", \"Denver\",\"Tokyo\",\"Helsinki\"]\n",
    "\n",
    "print(LaCasaDePapel)"
   ]
  },
  {
   "cell_type": "code",
   "execution_count": 148,
   "metadata": {},
   "outputs": [
    {
     "name": "stdout",
     "output_type": "stream",
     "text": [
      "['Rio', 'Denver', 'Tokyo', 'Helsinki', 'Moscow']\n"
     ]
    }
   ],
   "source": [
    "#append - add an item to the end of the list\n",
    "\n",
    "LaCasaDePapel.append(\"Moscow\")\n",
    "\n",
    "print(LaCasaDePapel)"
   ]
  },
  {
   "cell_type": "code",
   "execution_count": 149,
   "metadata": {},
   "outputs": [
    {
     "data": {
      "text/plain": [
       "['Rio', 'Denver', 'Tokyo', 'Helsinki', 'Moscow', 'Nairobi']"
      ]
     },
     "execution_count": 149,
     "metadata": {},
     "output_type": "execute_result"
    }
   ],
   "source": [
    "#extend - extends the list by appending all the items from the iterable.\n",
    "\n",
    "LaCasaDePapel.extend([\"Nairobi\"])\n",
    "\n",
    "LaCasaDePapel"
   ]
  },
  {
   "cell_type": "code",
   "execution_count": 150,
   "metadata": {},
   "outputs": [
    {
     "data": {
      "text/plain": [
       "['Rio', 'Denver', 'Tokyo', 'Lesbon', 'Helsinki', 'Moscow', 'Nairobi']"
      ]
     },
     "execution_count": 150,
     "metadata": {},
     "output_type": "execute_result"
    }
   ],
   "source": [
    "#insert - Inserts an item at a given position. \n",
    "\n",
    "LaCasaDePapel.insert(3,\"Lesbon\")\n",
    "\n",
    "LaCasaDePapel"
   ]
  },
  {
   "cell_type": "code",
   "execution_count": 151,
   "metadata": {},
   "outputs": [
    {
     "data": {
      "text/plain": [
       "['Rio', 'Denver', 'Tokyo', 'Lesbon', 'Helsinki', 'Moscow']"
      ]
     },
     "execution_count": 151,
     "metadata": {},
     "output_type": "execute_result"
    }
   ],
   "source": [
    "#remove - Remove the first item from the list whose value is equal to 'x'.\n",
    "\n",
    "LaCasaDePapel.remove(\"Nairobi\")\n",
    "\n",
    "LaCasaDePapel"
   ]
  },
  {
   "cell_type": "code",
   "execution_count": 152,
   "metadata": {},
   "outputs": [
    {
     "data": {
      "text/plain": [
       "['Rio', 'Denver', 'Lesbon', 'Helsinki', 'Moscow']"
      ]
     },
     "execution_count": 152,
     "metadata": {},
     "output_type": "execute_result"
    }
   ],
   "source": [
    "#pop - Removes the item at the given position in the list, and returns it.\n",
    "\n",
    "LaCasaDePapel.pop(2)\n",
    "\n",
    "LaCasaDePapel"
   ]
  },
  {
   "cell_type": "code",
   "execution_count": 153,
   "metadata": {},
   "outputs": [
    {
     "data": {
      "text/plain": [
       "2"
      ]
     },
     "execution_count": 153,
     "metadata": {},
     "output_type": "execute_result"
    }
   ],
   "source": [
    "#index - the position of the first list item that has a value of 'x'.\n",
    "\n",
    "LaCasaDePapel.index(\"Lesbon\")\n"
   ]
  },
  {
   "cell_type": "code",
   "execution_count": 154,
   "metadata": {},
   "outputs": [
    {
     "data": {
      "text/plain": [
       "1"
      ]
     },
     "execution_count": 154,
     "metadata": {},
     "output_type": "execute_result"
    }
   ],
   "source": [
    "#count - counts the number of times 'x' appears in the list.\n",
    "\n",
    "LaCasaDePapel.count(\"Denver\")"
   ]
  },
  {
   "cell_type": "code",
   "execution_count": 158,
   "metadata": {},
   "outputs": [
    {
     "data": {
      "text/plain": [
       "['Rio', 'Moscow', 'Lesbon', 'Helsinki', 'Denver']"
      ]
     },
     "execution_count": 158,
     "metadata": {},
     "output_type": "execute_result"
    }
   ],
   "source": [
    "#sort - Sorts the items of the list in place. The arguments can be used to customize the operation.\n",
    "\n",
    "LaCasaDePapel.sort(reverse=True)\n",
    "\n",
    "LaCasaDePapel"
   ]
  },
  {
   "cell_type": "code",
   "execution_count": 159,
   "metadata": {},
   "outputs": [
    {
     "data": {
      "text/plain": [
       "['Rio', 'Moscow', 'Lesbon', 'Helsinki', 'Denver']"
      ]
     },
     "execution_count": 159,
     "metadata": {},
     "output_type": "execute_result"
    }
   ],
   "source": [
    "#copy - outputs a copy of the list\n",
    "\n",
    "LaCasaDePapel.copy()"
   ]
  },
  {
   "cell_type": "markdown",
   "metadata": {},
   "source": [
    "# Sets and it's default functions"
   ]
  },
  {
   "cell_type": "code",
   "execution_count": 165,
   "metadata": {},
   "outputs": [
    {
     "data": {
      "text/plain": [
       "{2, 3, 5, 7, 11, 103}"
      ]
     },
     "execution_count": 165,
     "metadata": {},
     "output_type": "execute_result"
    }
   ],
   "source": [
    "primes={2,3,5,7,11}\n",
    "evens={2,4,6,8,10}\n",
    "\n",
    "#add\n",
    "primes.add(103)\n",
    "\n",
    "primes"
   ]
  },
  {
   "cell_type": "code",
   "execution_count": 162,
   "metadata": {},
   "outputs": [
    {
     "data": {
      "text/plain": [
       "{2, 3, 5, 7, 11, 103}"
      ]
     },
     "execution_count": 162,
     "metadata": {},
     "output_type": "execute_result"
    }
   ],
   "source": [
    "#copy\n",
    "\n",
    "primes.copy()"
   ]
  },
  {
   "cell_type": "code",
   "execution_count": 166,
   "metadata": {},
   "outputs": [
    {
     "data": {
      "text/plain": [
       "{3, 5, 7, 11, 103}"
      ]
     },
     "execution_count": 166,
     "metadata": {},
     "output_type": "execute_result"
    }
   ],
   "source": [
    "#difference\n",
    "\n",
    "primes.difference(evens)"
   ]
  },
  {
   "cell_type": "code",
   "execution_count": 168,
   "metadata": {},
   "outputs": [
    {
     "data": {
      "text/plain": [
       "{2, 3, 5, 7, 11}"
      ]
     },
     "execution_count": 168,
     "metadata": {},
     "output_type": "execute_result"
    }
   ],
   "source": [
    "#discard\n",
    "\n",
    "primes.discard(103)\n",
    "\n",
    "primes"
   ]
  },
  {
   "cell_type": "code",
   "execution_count": 169,
   "metadata": {},
   "outputs": [
    {
     "data": {
      "text/plain": [
       "{2}"
      ]
     },
     "execution_count": 169,
     "metadata": {},
     "output_type": "execute_result"
    }
   ],
   "source": [
    "#intersection\n",
    "\n",
    "primes.intersection(evens)"
   ]
  },
  {
   "cell_type": "code",
   "execution_count": 170,
   "metadata": {},
   "outputs": [
    {
     "data": {
      "text/plain": [
       "False"
      ]
     },
     "execution_count": 170,
     "metadata": {},
     "output_type": "execute_result"
    }
   ],
   "source": [
    "#disjoint\n",
    "\n",
    "primes.isdisjoint(evens)"
   ]
  },
  {
   "cell_type": "code",
   "execution_count": 171,
   "metadata": {},
   "outputs": [
    {
     "data": {
      "text/plain": [
       "False"
      ]
     },
     "execution_count": 171,
     "metadata": {},
     "output_type": "execute_result"
    }
   ],
   "source": [
    "#subset\n",
    "\n",
    "primes.issubset(evens)"
   ]
  },
  {
   "cell_type": "code",
   "execution_count": 174,
   "metadata": {},
   "outputs": [
    {
     "data": {
      "text/plain": [
       "2"
      ]
     },
     "execution_count": 174,
     "metadata": {},
     "output_type": "execute_result"
    }
   ],
   "source": [
    "#pop\n",
    "\n",
    "primes.pop()"
   ]
  },
  {
   "cell_type": "code",
   "execution_count": 175,
   "metadata": {},
   "outputs": [
    {
     "data": {
      "text/plain": [
       "{2, 3, 4, 5, 6, 7, 8, 10, 11}"
      ]
     },
     "execution_count": 175,
     "metadata": {},
     "output_type": "execute_result"
    }
   ],
   "source": [
    "#symmetric difference - The symmetric difference of two sets A and B is the set of elements that are in either A or B, but not in their intersection.\n",
    "\n",
    "primes.symmetric_difference(evens)"
   ]
  },
  {
   "cell_type": "code",
   "execution_count": 177,
   "metadata": {},
   "outputs": [
    {
     "data": {
      "text/plain": [
       "{2, 3, 4, 5, 6, 7, 8, 10, 11}"
      ]
     },
     "execution_count": 177,
     "metadata": {},
     "output_type": "execute_result"
    }
   ],
   "source": [
    "#Union set\n",
    "\n",
    "primes.union(evens)"
   ]
  },
  {
   "cell_type": "markdown",
   "metadata": {},
   "source": [
    "# -------Day 1 - Assignment-------"
   ]
  },
  {
   "cell_type": "code",
   "execution_count": null,
   "metadata": {},
   "outputs": [],
   "source": []
  }
 ],
 "metadata": {
  "kernelspec": {
   "display_name": "Python 3",
   "language": "python",
   "name": "python3"
  },
  "language_info": {
   "codemirror_mode": {
    "name": "ipython",
    "version": 3
   },
   "file_extension": ".py",
   "mimetype": "text/x-python",
   "name": "python",
   "nbconvert_exporter": "python",
   "pygments_lexer": "ipython3",
   "version": "3.7.6"
  }
 },
 "nbformat": 4,
 "nbformat_minor": 4
}
