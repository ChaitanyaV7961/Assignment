{
 "cells": [
  {
   "cell_type": "markdown",
   "metadata": {},
   "source": [
    "# Comparision of sub list and super list elements using looping and conditional functions\n",
    "\n",
    "CHAITANYA V"
   ]
  },
  {
   "cell_type": "code",
   "execution_count": 1,
   "metadata": {},
   "outputs": [
    {
     "name": "stdout",
     "output_type": "stream",
     "text": [
      "Enter your element of the list = 4\n",
      "Enter y/ny\n",
      "Enter your element of the list = 3\n",
      "Enter y/ny\n",
      "Enter your element of the list = 8\n",
      "Enter y/ny\n",
      "Enter your element of the list = 3\n",
      "Enter y/ny\n",
      "Enter your element of the list = 4\n",
      "Enter y/ny\n",
      "Enter your element of the list = 6\n",
      "Enter y/ny\n",
      "Enter your element of the list = 5\n",
      "Enter y/nn\n"
     ]
    }
   ],
   "source": [
    "#Taking the input of the super list elements for the number of times the user intends, by simple y/n inputs.\n",
    "\n",
    "\n",
    "super_list =[]\n",
    "while True:\n",
    "        super_list.append (int(input(\"Enter your element of the list = \")))\n",
    "        char = input(\"Enter y/n\")\n",
    "        char = char.lower()\n",
    "        if not char.startswith(\"y\"):\n",
    "            break"
   ]
  },
  {
   "cell_type": "code",
   "execution_count": 3,
   "metadata": {},
   "outputs": [
    {
     "name": "stdout",
     "output_type": "stream",
     "text": [
      "Not a match\n"
     ]
    }
   ],
   "source": [
    "# Conparing the super list and the sublist and delivering the result of the comparision, whether the sub list matches the super list,\n",
    "\n",
    "\n",
    "sub_list = [3,6,6]\n",
    "num = 0\n",
    "while num<len(super_list) and len(sub_list)>0 :\n",
    "    if super_list[num] == sub_list[0]:\n",
    "        sub_list.pop(0)\n",
    "    \n",
    "    num += 1\n",
    "if len(sub_list) == 0 :\n",
    "    print (\"It's a match\")\n",
    "else :\n",
    "    print (\"Not a match\")"
   ]
  },
  {
   "cell_type": "markdown",
   "metadata": {},
   "source": [
    "# ------DAY 4 - Assignment------"
   ]
  },
  {
   "cell_type": "code",
   "execution_count": null,
   "metadata": {},
   "outputs": [],
   "source": []
  }
 ],
 "metadata": {
  "kernelspec": {
   "display_name": "Python 3",
   "language": "python",
   "name": "python3"
  },
  "language_info": {
   "codemirror_mode": {
    "name": "ipython",
    "version": 3
   },
   "file_extension": ".py",
   "mimetype": "text/x-python",
   "name": "python",
   "nbconvert_exporter": "python",
   "pygments_lexer": "ipython3",
   "version": "3.7.6"
  }
 },
 "nbformat": 4,
 "nbformat_minor": 4
}
